{
 "cells": [
  {
   "cell_type": "code",
   "execution_count": 47,
   "id": "5222f246-ff1f-4784-80aa-0dade4ea6ee3",
   "metadata": {},
   "outputs": [],
   "source": [
    "import pandas as pd\n",
    "import numpy as np\n",
    "import seaborn as sns\n",
    "import matplotlib.pyplot as plt\n",
    "from sklearn.compose import ColumnTransformer\n",
    "from sklearn.impute import SimpleImputer\n",
    "from sklearn.preprocessing import OneHotEncoder, StandardScaler\n",
    "from sklearn.pipeline import Pipeline\n",
    "from sklearn.ensemble import RandomForestClassifier\n",
    "from sklearn.linear_model import LogisticRegression\n",
    "from sklearn.svm import SVC\n",
    "from sklearn.ensemble import GradientBoostingClassifier\n",
    "from sklearn.preprocessing import LabelEncoder\n",
    "from sklearn.metrics import accuracy_score, classification_report\n",
    "from xgboost import XGBClassifier\n",
    "import mlflow\n",
    "import mlflow.sklearn\n",
    "import mlflow.xgboost"
   ]
  },
  {
   "cell_type": "code",
   "execution_count": 48,
   "id": "71a31e72-7171-4f03-a648-9da18f94c759",
   "metadata": {},
   "outputs": [],
   "source": [
    "df = pd.read_csv('survey_results.csv')"
   ]
  },
  {
   "cell_type": "code",
   "execution_count": 49,
   "id": "5acfadc9-e2be-4375-b5ab-b5c9d8cbea76",
   "metadata": {},
   "outputs": [
    {
     "data": {
      "text/html": [
       "<div>\n",
       "<style scoped>\n",
       "    .dataframe tbody tr th:only-of-type {\n",
       "        vertical-align: middle;\n",
       "    }\n",
       "\n",
       "    .dataframe tbody tr th {\n",
       "        vertical-align: top;\n",
       "    }\n",
       "\n",
       "    .dataframe thead th {\n",
       "        text-align: right;\n",
       "    }\n",
       "</style>\n",
       "<table border=\"1\" class=\"dataframe\">\n",
       "  <thead>\n",
       "    <tr style=\"text-align: right;\">\n",
       "      <th></th>\n",
       "      <th>respondent_id</th>\n",
       "      <th>age</th>\n",
       "      <th>gender</th>\n",
       "      <th>zone</th>\n",
       "      <th>occupation</th>\n",
       "      <th>income_levels</th>\n",
       "      <th>consume_frequency(weekly)</th>\n",
       "      <th>current_brand</th>\n",
       "      <th>preferable_consumption_size</th>\n",
       "      <th>awareness_of_other_brands</th>\n",
       "      <th>reasons_for_choosing_brands</th>\n",
       "      <th>flavor_preference</th>\n",
       "      <th>purchase_channel</th>\n",
       "      <th>packaging_preference</th>\n",
       "      <th>health_concerns</th>\n",
       "      <th>typical_consumption_situations</th>\n",
       "      <th>price_range</th>\n",
       "    </tr>\n",
       "  </thead>\n",
       "  <tbody>\n",
       "    <tr>\n",
       "      <th>0</th>\n",
       "      <td>R00001</td>\n",
       "      <td>30</td>\n",
       "      <td>M</td>\n",
       "      <td>Urban</td>\n",
       "      <td>Working Professional</td>\n",
       "      <td>&lt;10L</td>\n",
       "      <td>3-4 times</td>\n",
       "      <td>Newcomer</td>\n",
       "      <td>Medium (500 ml)</td>\n",
       "      <td>0 to 1</td>\n",
       "      <td>Price</td>\n",
       "      <td>Traditional</td>\n",
       "      <td>Online</td>\n",
       "      <td>Simple</td>\n",
       "      <td>Medium (Moderately health-conscious)</td>\n",
       "      <td>Active (eg. Sports, gym)</td>\n",
       "      <td>100-150</td>\n",
       "    </tr>\n",
       "    <tr>\n",
       "      <th>1</th>\n",
       "      <td>R00002</td>\n",
       "      <td>46</td>\n",
       "      <td>F</td>\n",
       "      <td>Metro</td>\n",
       "      <td>Working Professional</td>\n",
       "      <td>&gt; 35L</td>\n",
       "      <td>5-7 times</td>\n",
       "      <td>Established</td>\n",
       "      <td>Medium (500 ml)</td>\n",
       "      <td>2 to 4</td>\n",
       "      <td>Quality</td>\n",
       "      <td>Exotic</td>\n",
       "      <td>Retail Store</td>\n",
       "      <td>Premium</td>\n",
       "      <td>Medium (Moderately health-conscious)</td>\n",
       "      <td>Social (eg. Parties)</td>\n",
       "      <td>200-250</td>\n",
       "    </tr>\n",
       "  </tbody>\n",
       "</table>\n",
       "</div>"
      ],
      "text/plain": [
       "  respondent_id  age gender   zone            occupation income_levels  \\\n",
       "0        R00001   30      M  Urban  Working Professional          <10L   \n",
       "1        R00002   46      F  Metro  Working Professional         > 35L   \n",
       "\n",
       "  consume_frequency(weekly) current_brand preferable_consumption_size  \\\n",
       "0                 3-4 times      Newcomer             Medium (500 ml)   \n",
       "1                 5-7 times   Established             Medium (500 ml)   \n",
       "\n",
       "  awareness_of_other_brands reasons_for_choosing_brands flavor_preference  \\\n",
       "0                    0 to 1                       Price       Traditional   \n",
       "1                    2 to 4                     Quality            Exotic   \n",
       "\n",
       "  purchase_channel packaging_preference                       health_concerns  \\\n",
       "0           Online               Simple  Medium (Moderately health-conscious)   \n",
       "1     Retail Store              Premium  Medium (Moderately health-conscious)   \n",
       "\n",
       "  typical_consumption_situations price_range  \n",
       "0       Active (eg. Sports, gym)     100-150  \n",
       "1           Social (eg. Parties)     200-250  "
      ]
     },
     "execution_count": 49,
     "metadata": {},
     "output_type": "execute_result"
    }
   ],
   "source": [
    "df.head(2)"
   ]
  },
  {
   "cell_type": "code",
   "execution_count": 50,
   "id": "0d47a719-cb26-40e5-aef9-b64274b2e5ff",
   "metadata": {},
   "outputs": [
    {
     "data": {
      "text/plain": [
       "(np.int64(10), 10, 30000)"
      ]
     },
     "execution_count": 50,
     "metadata": {},
     "output_type": "execute_result"
    }
   ],
   "source": [
    "# Check for duplicates based on respondent_id\n",
    "duplicate_count = df.duplicated(subset=['respondent_id']).sum()\n",
    "\n",
    "# Remove duplicates, keep the first occurrence\n",
    "df_clean = df.drop_duplicates(subset=['respondent_id'])\n",
    "\n",
    "# Confirm removal\n",
    "rows_removed = df.shape[0] - df_clean.shape[0]\n",
    "\n",
    "duplicate_count, rows_removed, df_clean.shape[0]"
   ]
  },
  {
   "cell_type": "code",
   "execution_count": 51,
   "id": "b7ae3385-4496-4b22-8285-70689ec11689",
   "metadata": {},
   "outputs": [],
   "source": [
    "df.drop_duplicates(inplace=True)\n",
    "df.reset_index(drop=True, inplace=True)"
   ]
  },
  {
   "cell_type": "code",
   "execution_count": 52,
   "id": "03da0441-6b45-47bb-ae4a-b6fc4555c9c7",
   "metadata": {},
   "outputs": [
    {
     "data": {
      "image/png": "[encoded data removed]",
      "text/plain": [
       "<Figure size 800x200 with 1 Axes>"
      ]
     },
     "metadata": {},
     "output_type": "display_data"
    },
    {
     "data": {
      "text/plain": [
       "count    30000.000000\n",
       "mean        33.048167\n",
       "std         13.438904\n",
       "min         18.000000\n",
       "25%         23.000000\n",
       "50%         31.000000\n",
       "75%         40.000000\n",
       "max        604.000000\n",
       "Name: age, dtype: float64"
      ]
     },
     "execution_count": 52,
     "metadata": {},
     "output_type": "execute_result"
    }
   ],
   "source": [
    "# Describe the age column\n",
    "age_desc = df_clean['age'].describe()\n",
    "\n",
    "# Visualize age distribution using a boxplot\n",
    "plt.figure(figsize=(8, 2))\n",
    "plt.boxplot(df_clean['age'], vert=False)\n",
    "plt.title('Boxplot of Respondent Age')\n",
    "plt.xlabel('Age')\n",
    "plt.show()\n",
    "\n",
    "age_desc"
   ]
  },
  {
   "cell_type": "code",
   "execution_count": 53,
   "id": "0f83dd02-6bcb-403f-92b4-e21d29974eba",
   "metadata": {},
   "outputs": [
    {
     "data": {
      "text/html": [
       "<div>\n",
       "<style scoped>\n",
       "    .dataframe tbody tr th:only-of-type {\n",
       "        vertical-align: middle;\n",
       "    }\n",
       "\n",
       "    .dataframe tbody tr th {\n",
       "        vertical-align: top;\n",
       "    }\n",
       "\n",
       "    .dataframe thead th {\n",
       "        text-align: right;\n",
       "    }\n",
       "</style>\n",
       "<table border=\"1\" class=\"dataframe\">\n",
       "  <thead>\n",
       "    <tr style=\"text-align: right;\">\n",
       "      <th></th>\n",
       "      <th>respondent_id</th>\n",
       "      <th>age</th>\n",
       "    </tr>\n",
       "  </thead>\n",
       "  <tbody>\n",
       "    <tr>\n",
       "      <th>3099</th>\n",
       "      <td>R03098</td>\n",
       "      <td>453</td>\n",
       "    </tr>\n",
       "    <tr>\n",
       "      <th>6262</th>\n",
       "      <td>R06260</td>\n",
       "      <td>428</td>\n",
       "    </tr>\n",
       "    <tr>\n",
       "      <th>12403</th>\n",
       "      <td>R12398</td>\n",
       "      <td>604</td>\n",
       "    </tr>\n",
       "    <tr>\n",
       "      <th>22549</th>\n",
       "      <td>R22542</td>\n",
       "      <td>457</td>\n",
       "    </tr>\n",
       "    <tr>\n",
       "      <th>22918</th>\n",
       "      <td>R22911</td>\n",
       "      <td>267</td>\n",
       "    </tr>\n",
       "    <tr>\n",
       "      <th>24958</th>\n",
       "      <td>R24950</td>\n",
       "      <td>285</td>\n",
       "    </tr>\n",
       "    <tr>\n",
       "      <th>24960</th>\n",
       "      <td>R24952</td>\n",
       "      <td>192</td>\n",
       "    </tr>\n",
       "    <tr>\n",
       "      <th>25105</th>\n",
       "      <td>R25096</td>\n",
       "      <td>203</td>\n",
       "    </tr>\n",
       "    <tr>\n",
       "      <th>28770</th>\n",
       "      <td>R28761</td>\n",
       "      <td>428</td>\n",
       "    </tr>\n",
       "  </tbody>\n",
       "</table>\n",
       "</div>"
      ],
      "text/plain": [
       "      respondent_id  age\n",
       "3099         R03098  453\n",
       "6262         R06260  428\n",
       "12403        R12398  604\n",
       "22549        R22542  457\n",
       "22918        R22911  267\n",
       "24958        R24950  285\n",
       "24960        R24952  192\n",
       "25105        R25096  203\n",
       "28770        R28761  428"
      ]
     },
     "execution_count": 53,
     "metadata": {},
     "output_type": "execute_result"
    }
   ],
   "source": [
    "# Find all ages below 18 and above 100\n",
    "outliers = df_clean[(df_clean['age'] < 18) | (df_clean['age'] > 100)][['respondent_id', 'age']]\n",
    "outliers_count = outliers.shape[0]\n",
    "outliers"
   ]
  },
  {
   "cell_type": "code",
   "execution_count": 54,
   "id": "f488662b-5401-4b6b-be40-25b153bf0fec",
   "metadata": {},
   "outputs": [
    {
     "data": {
      "text/plain": [
       "(-2, 66)"
      ]
     },
     "execution_count": 54,
     "metadata": {},
     "output_type": "execute_result"
    }
   ],
   "source": [
    "Q1 = df['age'].quantile(0.25)\n",
    "Q3 = df['age'].quantile(0.75)\n",
    "IQR = Q3 - Q1\n",
    "\n",
    "lower_bound = round(Q1 - 1.5 * IQR)\n",
    "upper_bound = round(Q3 + 1.5 * IQR)\n",
    "\n",
    "lower_bound, upper_bound"
   ]
  },
  {
   "cell_type": "code",
   "execution_count": 55,
   "id": "e83dd997-87ab-42b3-a569-f22aa9000a4b",
   "metadata": {},
   "outputs": [],
   "source": [
    "age_mean = df['age'].mean()\n",
    "age_std = df['age'].std()\n",
    "\n",
    "df['z_score_age'] = (df['age'] - age_mean) / age_std\n",
    "\n",
    "threshold = 3\n",
    "\n",
    "new_df = df[np.abs(df['z_score_age']) < threshold].copy()\n",
    "new_df.drop('z_score_age', axis='columns', inplace=True)"
   ]
  },
  {
   "cell_type": "code",
   "execution_count": 56,
   "id": "35e70f63-4db0-41e4-885a-72632870e86d",
   "metadata": {},
   "outputs": [
    {
     "data": {
      "text/plain": [
       "(29991, 17)"
      ]
     },
     "execution_count": 56,
     "metadata": {},
     "output_type": "execute_result"
    }
   ],
   "source": [
    "new_df.shape"
   ]
  },
  {
   "cell_type": "code",
   "execution_count": 57,
   "id": "380b49ae-10fc-4716-b852-c1679cf4364f",
   "metadata": {},
   "outputs": [
    {
     "data": {
      "text/html": [
       "<div>\n",
       "<style scoped>\n",
       "    .dataframe tbody tr th:only-of-type {\n",
       "        vertical-align: middle;\n",
       "    }\n",
       "\n",
       "    .dataframe tbody tr th {\n",
       "        vertical-align: top;\n",
       "    }\n",
       "\n",
       "    .dataframe thead th {\n",
       "        text-align: right;\n",
       "    }\n",
       "</style>\n",
       "<table border=\"1\" class=\"dataframe\">\n",
       "  <thead>\n",
       "    <tr style=\"text-align: right;\">\n",
       "      <th></th>\n",
       "      <th>age</th>\n",
       "    </tr>\n",
       "  </thead>\n",
       "  <tbody>\n",
       "    <tr>\n",
       "      <th>count</th>\n",
       "      <td>29991.000000</td>\n",
       "    </tr>\n",
       "    <tr>\n",
       "      <th>mean</th>\n",
       "      <td>32.947484</td>\n",
       "    </tr>\n",
       "    <tr>\n",
       "      <th>std</th>\n",
       "      <td>11.906077</td>\n",
       "    </tr>\n",
       "    <tr>\n",
       "      <th>min</th>\n",
       "      <td>18.000000</td>\n",
       "    </tr>\n",
       "    <tr>\n",
       "      <th>25%</th>\n",
       "      <td>23.000000</td>\n",
       "    </tr>\n",
       "    <tr>\n",
       "      <th>50%</th>\n",
       "      <td>31.000000</td>\n",
       "    </tr>\n",
       "    <tr>\n",
       "      <th>75%</th>\n",
       "      <td>40.000000</td>\n",
       "    </tr>\n",
       "    <tr>\n",
       "      <th>max</th>\n",
       "      <td>70.000000</td>\n",
       "    </tr>\n",
       "  </tbody>\n",
       "</table>\n",
       "</div>"
      ],
      "text/plain": [
       "                age\n",
       "count  29991.000000\n",
       "mean      32.947484\n",
       "std       11.906077\n",
       "min       18.000000\n",
       "25%       23.000000\n",
       "50%       31.000000\n",
       "75%       40.000000\n",
       "max       70.000000"
      ]
     },
     "execution_count": 57,
     "metadata": {},
     "output_type": "execute_result"
    }
   ],
   "source": [
    "new_df.describe()"
   ]
  },
  {
   "cell_type": "code",
   "execution_count": 58,
   "id": "5d14e7b7-d307-47bf-b109-5a6854935ff6",
   "metadata": {},
   "outputs": [
    {
     "data": {
      "text/plain": [
       "np.int64(8)"
      ]
     },
     "execution_count": 58,
     "metadata": {},
     "output_type": "execute_result"
    }
   ],
   "source": [
    "new_df['consume_frequency(weekly)'].isnull().sum()"
   ]
  },
  {
   "cell_type": "code",
   "execution_count": 59,
   "id": "bee1ea80-a919-435b-ae0e-0055d37670cd",
   "metadata": {},
   "outputs": [
    {
     "data": {
      "text/plain": [
       "0    3-4 times\n",
       "Name: consume_frequency(weekly), dtype: object"
      ]
     },
     "execution_count": 59,
     "metadata": {},
     "output_type": "execute_result"
    }
   ],
   "source": [
    "new_df['consume_frequency(weekly)'].mode()"
   ]
  },
  {
   "cell_type": "code",
   "execution_count": 60,
   "id": "0b158542-9498-4ab7-a519-ad6474bc0775",
   "metadata": {},
   "outputs": [
    {
     "name": "stderr",
     "output_type": "stream",
     "text": [
      "C:\\Users\\serhii_kravchenko4\\AppData\\Local\\Temp\\ipykernel_17584\\2650395704.py:1: FutureWarning: A value is trying to be set on a copy of a DataFrame or Series through chained assignment using an inplace method.\n",
      "The behavior will change in pandas 3.0. This inplace method will never work because the intermediate object on which we are setting values always behaves as a copy.\n",
      "\n",
      "For example, when doing 'df[col].method(value, inplace=True)', try using 'df.method({col: value}, inplace=True)' or df[col] = df[col].method(value) instead, to perform the operation inplace on the original object.\n",
      "\n",
      "\n",
      "  new_df['consume_frequency(weekly)'].fillna(new_df['consume_frequency(weekly)'].mode(), inplace=True)\n"
     ]
    }
   ],
   "source": [
    "new_df['consume_frequency(weekly)'].fillna(new_df['consume_frequency(weekly)'].mode(), inplace=True)"
   ]
  },
  {
   "cell_type": "code",
   "execution_count": 61,
   "id": "55114d7b-c4f6-46d8-8760-c94c1545ff61",
   "metadata": {},
   "outputs": [
    {
     "name": "stderr",
     "output_type": "stream",
     "text": [
      "C:\\Users\\serhii_kravchenko4\\AppData\\Local\\Temp\\ipykernel_17584\\3510089764.py:1: FutureWarning: A value is trying to be set on a copy of a DataFrame or Series through chained assignment using an inplace method.\n",
      "The behavior will change in pandas 3.0. This inplace method will never work because the intermediate object on which we are setting values always behaves as a copy.\n",
      "\n",
      "For example, when doing 'df[col].method(value, inplace=True)', try using 'df.method({col: value}, inplace=True)' or df[col] = df[col].method(value) instead, to perform the operation inplace on the original object.\n",
      "\n",
      "\n",
      "  new_df[\"income_levels\"].fillna(\"Not Reported\", inplace=True)\n"
     ]
    }
   ],
   "source": [
    "new_df[\"income_levels\"].fillna(\"Not Reported\", inplace=True)"
   ]
  },
  {
   "cell_type": "code",
   "execution_count": 62,
   "id": "18900822-6e54-4f69-8ad9-5f8bd2aceb05",
   "metadata": {},
   "outputs": [],
   "source": [
    "new_df['zone'] = new_df['zone'].str.lower().str.strip()"
   ]
  },
  {
   "cell_type": "code",
   "execution_count": 63,
   "id": "eee383d6-3112-422d-bd5b-c649bd32bbc7",
   "metadata": {},
   "outputs": [
    {
     "data": {
      "text/plain": [
       "array(['Newcomer', 'Established', 'newcomer', 'Establishd'], dtype=object)"
      ]
     },
     "execution_count": 63,
     "metadata": {},
     "output_type": "execute_result"
    }
   ],
   "source": [
    "new_df['current_brand'].unique()"
   ]
  },
  {
   "cell_type": "code",
   "execution_count": 64,
   "id": "ab8f1d49-4780-47c8-88a9-4cc00fff312e",
   "metadata": {},
   "outputs": [
    {
     "name": "stderr",
     "output_type": "stream",
     "text": [
      "C:\\Users\\serhii_kravchenko4\\AppData\\Local\\Temp\\ipykernel_17584\\2740840892.py:5: FutureWarning: A value is trying to be set on a copy of a DataFrame or Series through chained assignment using an inplace method.\n",
      "The behavior will change in pandas 3.0. This inplace method will never work because the intermediate object on which we are setting values always behaves as a copy.\n",
      "\n",
      "For example, when doing 'df[col].method(value, inplace=True)', try using 'df.method({col: value}, inplace=True)' or df[col] = df[col].method(value) instead, to perform the operation inplace on the original object.\n",
      "\n",
      "\n",
      "  new_df['current_brand'].replace(corrections, inplace=True)\n"
     ]
    }
   ],
   "source": [
    "corrections = {\n",
    "    \"newcomer\": \"Newcomer\",\n",
    "    \"Establishd\": \"Established\"\n",
    "}\n",
    "new_df['current_brand'].replace(corrections, inplace=True)"
   ]
  },
  {
   "cell_type": "code",
   "execution_count": 65,
   "id": "b1b8d053-acee-455b-ab07-cd9626f2f3a2",
   "metadata": {},
   "outputs": [
    {
     "data": {
      "text/plain": [
       "array(['newcomer', 'established'], dtype=object)"
      ]
     },
     "execution_count": 65,
     "metadata": {},
     "output_type": "execute_result"
    }
   ],
   "source": [
    "new_df['current_brand'] = new_df['current_brand'].str.lower().str.strip()\n",
    "new_df['current_brand'].unique()"
   ]
  },
  {
   "cell_type": "code",
   "execution_count": 66,
   "id": "352a4d89-19ac-4353-9d22-1a50f1722568",
   "metadata": {},
   "outputs": [
    {
     "data": {
      "text/plain": [
       "4"
      ]
     },
     "execution_count": 66,
     "metadata": {},
     "output_type": "execute_result"
    }
   ],
   "source": [
    "# Common misspellings might include: 'Merto', 'Metor', etc.\n",
    "possible_misspellings = ['merto', 'metor', 'metroo', 'metra', 'metre']\n",
    "\n",
    "# Lowercase comparison for robust matching\n",
    "misspelled_rows = df[df['zone'].str.lower().isin(possible_misspellings)]\n",
    "\n",
    "misspelled_count = misspelled_rows.shape[0]\n",
    "misspelled_count\n"
   ]
  },
  {
   "cell_type": "code",
   "execution_count": 67,
   "id": "a368e6fb-ee82-4249-adea-3d79cc6665c1",
   "metadata": {},
   "outputs": [],
   "source": [
    "bins = [18, 26, 36, 46, 56, 71, float('inf')]\n",
    "labels = ['18-25', '26-35', '36-45', '46-55', '56-70', '70+']\n",
    "new_df['age_group'] = pd.cut(new_df['age'], bins=bins, labels=labels, right=False)"
   ]
  },
  {
   "cell_type": "code",
   "execution_count": 68,
   "id": "7c720d17-9f27-489b-9728-5f4102617b4e",
   "metadata": {},
   "outputs": [],
   "source": [
    "new_df.drop('age', axis='columns', inplace=True)"
   ]
  },
  {
   "cell_type": "code",
   "execution_count": 69,
   "id": "e98d67c4-e2db-4291-a2e2-b19c025515f0",
   "metadata": {},
   "outputs": [
    {
     "name": "stderr",
     "output_type": "stream",
     "text": [
      "C:\\Users\\serhii_kravchenko4\\AppData\\Local\\Temp\\ipykernel_17584\\2731429754.py:6: FutureWarning: A value is trying to be set on a copy of a DataFrame or Series through chained assignment using an inplace method.\n",
      "The behavior will change in pandas 3.0. This inplace method will never work because the intermediate object on which we are setting values always behaves as a copy.\n",
      "\n",
      "For example, when doing 'df[col].method(value, inplace=True)', try using 'df.method({col: value}, inplace=True)' or df[col] = df[col].method(value) instead, to perform the operation inplace on the original object.\n",
      "\n",
      "\n",
      "  new_df['consume_frequency(weekly)'].replace(consume_map,inplace=True)\n",
      "C:\\Users\\serhii_kravchenko4\\AppData\\Local\\Temp\\ipykernel_17584\\2731429754.py:6: FutureWarning: Downcasting behavior in `replace` is deprecated and will be removed in a future version. To retain the old behavior, explicitly call `result.infer_objects(copy=False)`. To opt-in to the future behavior, set `pd.set_option('future.no_silent_downcasting', True)`\n",
      "  new_df['consume_frequency(weekly)'].replace(consume_map,inplace=True)\n"
     ]
    }
   ],
   "source": [
    "consume_map = {\n",
    "    \"0-2 times\": 1,\n",
    "    \"3-4 times\": 2,\n",
    "    \"5-7 times\": 3\n",
    "}\n",
    "new_df['consume_frequency(weekly)'].replace(consume_map,inplace=True)\n"
   ]
  },
  {
   "cell_type": "code",
   "execution_count": 70,
   "id": "e30f3bbb-e40d-4525-bdba-af6ad8cad646",
   "metadata": {},
   "outputs": [
    {
     "name": "stderr",
     "output_type": "stream",
     "text": [
      "C:\\Users\\serhii_kravchenko4\\AppData\\Local\\Temp\\ipykernel_17584\\3576536698.py:6: FutureWarning: A value is trying to be set on a copy of a DataFrame or Series through chained assignment using an inplace method.\n",
      "The behavior will change in pandas 3.0. This inplace method will never work because the intermediate object on which we are setting values always behaves as a copy.\n",
      "\n",
      "For example, when doing 'df[col].method(value, inplace=True)', try using 'df.method({col: value}, inplace=True)' or df[col] = df[col].method(value) instead, to perform the operation inplace on the original object.\n",
      "\n",
      "\n",
      "  new_df['awareness_of_other_brands'].replace(awareness_map,inplace=True)\n",
      "C:\\Users\\serhii_kravchenko4\\AppData\\Local\\Temp\\ipykernel_17584\\3576536698.py:6: FutureWarning: Downcasting behavior in `replace` is deprecated and will be removed in a future version. To retain the old behavior, explicitly call `result.infer_objects(copy=False)`. To opt-in to the future behavior, set `pd.set_option('future.no_silent_downcasting', True)`\n",
      "  new_df['awareness_of_other_brands'].replace(awareness_map,inplace=True)\n"
     ]
    }
   ],
   "source": [
    "awareness_map = {\n",
    "    \"0 to 1\": 1,\n",
    "    \"2 to 4\":2,\n",
    "    \"above 4\":3\n",
    "}\n",
    "new_df['awareness_of_other_brands'].replace(awareness_map,inplace=True)"
   ]
  },
  {
   "cell_type": "code",
   "execution_count": 71,
   "id": "392dd05a-a271-4f0a-9596-839abcd1dec4",
   "metadata": {},
   "outputs": [],
   "source": [
    "new_df['cf_ab_score'] = round(new_df['consume_frequency(weekly)']/ (new_df['awareness_of_other_brands']+new_df['consume_frequency(weekly)']), 2)"
   ]
  },
  {
   "cell_type": "code",
   "execution_count": 72,
   "id": "9bf2ffd1-1d8c-41fa-9496-c142d940d5a6",
   "metadata": {},
   "outputs": [],
   "source": [
    "location_mapping = {\n",
    "    \"urban\": 3,\n",
    "    \"metro\": 4,\n",
    "    \"rural\": 1,\n",
    "    \"semi-urban\": 2\n",
    "}\n",
    "\n",
    "income_mapping = {\n",
    "    \"<10L\": 1,\n",
    "    \"10L - 15L\": 2,\n",
    "    \"16L - 25L\": 3,\n",
    "    \"26L - 35L\": 4,\n",
    "    \"> 35L\": 5,\n",
    "    \"Not Reported\": 0\n",
    "}"
   ]
  },
  {
   "cell_type": "code",
   "execution_count": 73,
   "id": "4e69d59f-4d48-47fb-9f7c-9d67f71cc357",
   "metadata": {},
   "outputs": [
    {
     "name": "stderr",
     "output_type": "stream",
     "text": [
      "C:\\Users\\serhii_kravchenko4\\AppData\\Local\\Temp\\ipykernel_17584\\3036244447.py:5: FutureWarning: Downcasting behavior in `replace` is deprecated and will be removed in a future version. To retain the old behavior, explicitly call `result.infer_objects(copy=False)`. To opt-in to the future behavior, set `pd.set_option('future.no_silent_downcasting', True)`\n",
      "  new_df['income_levels'] = new_df['income_levels'].replace(income_mapping)\n"
     ]
    }
   ],
   "source": [
    "# Apply the location mapping to the 'zone' column\n",
    "new_df['zone'] = new_df['zone'].replace(location_mapping)\n",
    "\n",
    "# Apply the income mapping to the 'income_levels' column\n",
    "new_df['income_levels'] = new_df['income_levels'].replace(income_mapping)\n",
    "\n",
    "# Now perform the multiplication\n",
    "new_df['zas_score'] = new_df['zone'] * new_df['income_levels']"
   ]
  },
  {
   "cell_type": "code",
   "execution_count": 74,
   "id": "be436373-0268-4fea-ae90-1297f0c13d7c",
   "metadata": {},
   "outputs": [],
   "source": [
    "def bsi_func(df: pd.DataFrame):\n",
    "    if df['current_brand'].lower() != \"established\":\n",
    "        if df['reasons_for_choosing_brands'] in [\"Price\", \"Quality\"]:\n",
    "            return 1\n",
    "\n",
    "    return 0"
   ]
  },
  {
   "cell_type": "code",
   "execution_count": 75,
   "id": "298a331b-26a6-4595-8473-9a6d31cda7d5",
   "metadata": {},
   "outputs": [],
   "source": [
    "new_df['bsi'] = new_df.apply(bsi_func, axis='columns')"
   ]
  },
  {
   "cell_type": "code",
   "execution_count": 76,
   "id": "292f6e62-8685-486b-a1a8-b2a65f747de4",
   "metadata": {},
   "outputs": [
    {
     "data": {
      "text/html": [
       "<div>\n",
       "<style scoped>\n",
       "    .dataframe tbody tr th:only-of-type {\n",
       "        vertical-align: middle;\n",
       "    }\n",
       "\n",
       "    .dataframe tbody tr th {\n",
       "        vertical-align: top;\n",
       "    }\n",
       "\n",
       "    .dataframe thead th {\n",
       "        text-align: right;\n",
       "    }\n",
       "</style>\n",
       "<table border=\"1\" class=\"dataframe\">\n",
       "  <thead>\n",
       "    <tr style=\"text-align: right;\">\n",
       "      <th></th>\n",
       "      <th>respondent_id</th>\n",
       "      <th>gender</th>\n",
       "      <th>zone</th>\n",
       "      <th>occupation</th>\n",
       "      <th>income_levels</th>\n",
       "      <th>consume_frequency(weekly)</th>\n",
       "      <th>current_brand</th>\n",
       "      <th>preferable_consumption_size</th>\n",
       "      <th>awareness_of_other_brands</th>\n",
       "      <th>reasons_for_choosing_brands</th>\n",
       "      <th>flavor_preference</th>\n",
       "      <th>purchase_channel</th>\n",
       "      <th>packaging_preference</th>\n",
       "      <th>health_concerns</th>\n",
       "      <th>typical_consumption_situations</th>\n",
       "      <th>price_range</th>\n",
       "      <th>age_group</th>\n",
       "      <th>cf_ab_score</th>\n",
       "      <th>zas_score</th>\n",
       "      <th>bsi</th>\n",
       "    </tr>\n",
       "  </thead>\n",
       "  <tbody>\n",
       "    <tr>\n",
       "      <th>0</th>\n",
       "      <td>R00001</td>\n",
       "      <td>M</td>\n",
       "      <td>3</td>\n",
       "      <td>Working Professional</td>\n",
       "      <td>1</td>\n",
       "      <td>2.0</td>\n",
       "      <td>newcomer</td>\n",
       "      <td>Medium (500 ml)</td>\n",
       "      <td>1</td>\n",
       "      <td>Price</td>\n",
       "      <td>Traditional</td>\n",
       "      <td>Online</td>\n",
       "      <td>Simple</td>\n",
       "      <td>Medium (Moderately health-conscious)</td>\n",
       "      <td>Active (eg. Sports, gym)</td>\n",
       "      <td>100-150</td>\n",
       "      <td>26-35</td>\n",
       "      <td>0.67</td>\n",
       "      <td>3</td>\n",
       "      <td>1</td>\n",
       "    </tr>\n",
       "    <tr>\n",
       "      <th>1</th>\n",
       "      <td>R00002</td>\n",
       "      <td>F</td>\n",
       "      <td>4</td>\n",
       "      <td>Working Professional</td>\n",
       "      <td>5</td>\n",
       "      <td>3.0</td>\n",
       "      <td>established</td>\n",
       "      <td>Medium (500 ml)</td>\n",
       "      <td>2</td>\n",
       "      <td>Quality</td>\n",
       "      <td>Exotic</td>\n",
       "      <td>Retail Store</td>\n",
       "      <td>Premium</td>\n",
       "      <td>Medium (Moderately health-conscious)</td>\n",
       "      <td>Social (eg. Parties)</td>\n",
       "      <td>200-250</td>\n",
       "      <td>46-55</td>\n",
       "      <td>0.60</td>\n",
       "      <td>20</td>\n",
       "      <td>0</td>\n",
       "    </tr>\n",
       "  </tbody>\n",
       "</table>\n",
       "</div>"
      ],
      "text/plain": [
       "  respondent_id gender zone            occupation  income_levels  \\\n",
       "0        R00001      M    3  Working Professional              1   \n",
       "1        R00002      F    4  Working Professional              5   \n",
       "\n",
       "   consume_frequency(weekly) current_brand preferable_consumption_size  \\\n",
       "0                        2.0      newcomer             Medium (500 ml)   \n",
       "1                        3.0   established             Medium (500 ml)   \n",
       "\n",
       "   awareness_of_other_brands reasons_for_choosing_brands flavor_preference  \\\n",
       "0                          1                       Price       Traditional   \n",
       "1                          2                     Quality            Exotic   \n",
       "\n",
       "  purchase_channel packaging_preference                       health_concerns  \\\n",
       "0           Online               Simple  Medium (Moderately health-conscious)   \n",
       "1     Retail Store              Premium  Medium (Moderately health-conscious)   \n",
       "\n",
       "  typical_consumption_situations price_range age_group  cf_ab_score zas_score  \\\n",
       "0       Active (eg. Sports, gym)     100-150     26-35         0.67         3   \n",
       "1           Social (eg. Parties)     200-250     46-55         0.60        20   \n",
       "\n",
       "   bsi  \n",
       "0    1  \n",
       "1    0  "
      ]
     },
     "execution_count": 76,
     "metadata": {},
     "output_type": "execute_result"
    }
   ],
   "source": [
    "new_df.head(2)"
   ]
  },
  {
   "cell_type": "code",
   "execution_count": 77,
   "id": "c8a28793-433a-4428-ad87-b71ff7cb193a",
   "metadata": {},
   "outputs": [
    {
     "name": "stdout",
     "output_type": "stream",
     "text": [
      "Rows remaining after removing logical outliers: 29956\n"
     ]
    }
   ],
   "source": [
    "# Define the outlier conditions\n",
    "outliers = (\n",
    "    ((new_df['occupation'] == 'Student') & (new_df['age_group'] == '56-70')) |\n",
    "    ((new_df['occupation'] == 'Retired') & (new_df['age_group'].isin(['18-25', '26-35', '36-45'])))\n",
    ")\n",
    "\n",
    "# Remove outliers\n",
    "new_df = new_df[~outliers]\n",
    "\n",
    "# Count remaining rows\n",
    "remaining_rows = new_df.shape[0]\n",
    "\n",
    "print(f\"Rows remaining after removing logical outliers: {remaining_rows}\")\n"
   ]
  },
  {
   "cell_type": "code",
   "execution_count": 78,
   "id": "ee5a6d0a-b350-45b4-83b8-96d35dd24b23",
   "metadata": {},
   "outputs": [
    {
     "data": {
      "text/plain": [
       "np.float64(0.75)"
      ]
     },
     "execution_count": 78,
     "metadata": {},
     "output_type": "execute_result"
    }
   ],
   "source": [
    "new_df['cf_ab_score'].max()"
   ]
  },
  {
   "cell_type": "code",
   "execution_count": 79,
   "id": "d2407346-51c6-4ff9-822d-2ee1ba4b6203",
   "metadata": {},
   "outputs": [
    {
     "data": {
      "text/plain": [
       "19"
      ]
     },
     "execution_count": 79,
     "metadata": {},
     "output_type": "execute_result"
    }
   ],
   "source": [
    "new_df['zas_score'].nunique()"
   ]
  },
  {
   "cell_type": "code",
   "execution_count": 80,
   "id": "b4b175bf-b7bc-48db-9e65-348ed297645b",
   "metadata": {},
   "outputs": [
    {
     "data": {
      "text/plain": [
       "(20796, 20)"
      ]
     },
     "execution_count": 80,
     "metadata": {},
     "output_type": "execute_result"
    }
   ],
   "source": [
    "new_df[new_df['bsi']==0].shape"
   ]
  },
  {
   "cell_type": "code",
   "execution_count": 81,
   "id": "91c62a56-790b-4a31-b8fe-d070c11f9ff8",
   "metadata": {},
   "outputs": [
    {
     "data": {
      "text/html": [
       "<div>\n",
       "<style scoped>\n",
       "    .dataframe tbody tr th:only-of-type {\n",
       "        vertical-align: middle;\n",
       "    }\n",
       "\n",
       "    .dataframe tbody tr th {\n",
       "        vertical-align: top;\n",
       "    }\n",
       "\n",
       "    .dataframe thead th {\n",
       "        text-align: right;\n",
       "    }\n",
       "</style>\n",
       "<table border=\"1\" class=\"dataframe\">\n",
       "  <thead>\n",
       "    <tr style=\"text-align: right;\">\n",
       "      <th></th>\n",
       "      <th>respondent_id</th>\n",
       "      <th>gender</th>\n",
       "      <th>zone</th>\n",
       "      <th>occupation</th>\n",
       "      <th>income_levels</th>\n",
       "      <th>consume_frequency(weekly)</th>\n",
       "      <th>current_brand</th>\n",
       "      <th>preferable_consumption_size</th>\n",
       "      <th>awareness_of_other_brands</th>\n",
       "      <th>reasons_for_choosing_brands</th>\n",
       "      <th>flavor_preference</th>\n",
       "      <th>purchase_channel</th>\n",
       "      <th>packaging_preference</th>\n",
       "      <th>health_concerns</th>\n",
       "      <th>typical_consumption_situations</th>\n",
       "      <th>price_range</th>\n",
       "      <th>age_group</th>\n",
       "      <th>cf_ab_score</th>\n",
       "      <th>zas_score</th>\n",
       "      <th>bsi</th>\n",
       "    </tr>\n",
       "  </thead>\n",
       "  <tbody>\n",
       "    <tr>\n",
       "      <th>0</th>\n",
       "      <td>R00001</td>\n",
       "      <td>M</td>\n",
       "      <td>3</td>\n",
       "      <td>Working Professional</td>\n",
       "      <td>1</td>\n",
       "      <td>2.0</td>\n",
       "      <td>newcomer</td>\n",
       "      <td>Medium (500 ml)</td>\n",
       "      <td>1</td>\n",
       "      <td>Price</td>\n",
       "      <td>Traditional</td>\n",
       "      <td>Online</td>\n",
       "      <td>Simple</td>\n",
       "      <td>Medium (Moderately health-conscious)</td>\n",
       "      <td>Active (eg. Sports, gym)</td>\n",
       "      <td>100-150</td>\n",
       "      <td>26-35</td>\n",
       "      <td>0.67</td>\n",
       "      <td>3</td>\n",
       "      <td>1</td>\n",
       "    </tr>\n",
       "  </tbody>\n",
       "</table>\n",
       "</div>"
      ],
      "text/plain": [
       "  respondent_id gender zone            occupation  income_levels  \\\n",
       "0        R00001      M    3  Working Professional              1   \n",
       "\n",
       "   consume_frequency(weekly) current_brand preferable_consumption_size  \\\n",
       "0                        2.0      newcomer             Medium (500 ml)   \n",
       "\n",
       "   awareness_of_other_brands reasons_for_choosing_brands flavor_preference  \\\n",
       "0                          1                       Price       Traditional   \n",
       "\n",
       "  purchase_channel packaging_preference                       health_concerns  \\\n",
       "0           Online               Simple  Medium (Moderately health-conscious)   \n",
       "\n",
       "  typical_consumption_situations price_range age_group  cf_ab_score zas_score  \\\n",
       "0       Active (eg. Sports, gym)     100-150     26-35         0.67         3   \n",
       "\n",
       "   bsi  \n",
       "0    1  "
      ]
     },
     "execution_count": 81,
     "metadata": {},
     "output_type": "execute_result"
    }
   ],
   "source": [
    "new_df.head(1)"
   ]
  },
  {
   "cell_type": "code",
   "execution_count": 82,
   "id": "768051af-0f81-4661-94c6-143b02ca5ea7",
   "metadata": {},
   "outputs": [
    {
     "data": {
      "text/plain": [
       "array(['100-150', '200-250', '150-200', '50-100'], dtype=object)"
      ]
     },
     "execution_count": 82,
     "metadata": {},
     "output_type": "execute_result"
    }
   ],
   "source": [
    "new_df['price_range'].unique()"
   ]
  },
  {
   "cell_type": "code",
   "execution_count": 83,
   "id": "bbf9c3bc-ba84-4304-9371-52ec9e5ab6ef",
   "metadata": {},
   "outputs": [],
   "source": [
    "new_df.to_csv(\"survey_results_v2.csv\", index=False)"
   ]
  },
  {
   "cell_type": "code",
   "execution_count": 84,
   "id": "8a9d0f17-4e14-4604-b097-7b035e2939b9",
   "metadata": {},
   "outputs": [
    {
     "data": {
      "text/plain": [
       "respondent_id                      0\n",
       "gender                             0\n",
       "zone                               0\n",
       "occupation                         0\n",
       "income_levels                      0\n",
       "consume_frequency(weekly)          8\n",
       "current_brand                      0\n",
       "preferable_consumption_size        0\n",
       "awareness_of_other_brands          0\n",
       "reasons_for_choosing_brands        0\n",
       "flavor_preference                  0\n",
       "purchase_channel                  10\n",
       "packaging_preference               0\n",
       "health_concerns                    0\n",
       "typical_consumption_situations     0\n",
       "price_range                        0\n",
       "age_group                          0\n",
       "cf_ab_score                        8\n",
       "zas_score                          0\n",
       "bsi                                0\n",
       "dtype: int64"
      ]
     },
     "execution_count": 84,
     "metadata": {},
     "output_type": "execute_result"
    }
   ],
   "source": [
    "new_df.isna().sum()"
   ]
  },
  {
   "cell_type": "code",
   "execution_count": 89,
   "id": "03cf592a-b23b-4bcb-bfba-c1cd09e09193",
   "metadata": {},
   "outputs": [
    {
     "name": "stdout",
     "output_type": "stream",
     "text": [
      "Test accuracy: 0.84029910535452\n"
     ]
    }
   ],
   "source": [
    "from sklearn.compose        import ColumnTransformer\n",
    "from sklearn.impute         import SimpleImputer\n",
    "from sklearn.preprocessing  import OneHotEncoder, StandardScaler, FunctionTransformer\n",
    "from sklearn.pipeline       import Pipeline\n",
    "from sklearn.ensemble       import RandomForestClassifier\n",
    "from sklearn.model_selection import train_test_split\n",
    "\n",
    "# 0) Define X and y properly — no Ellipsis!\n",
    "drop_cols = ['respondent_id', 'price_range', 'age_group', 'income_levels']\n",
    "X = new_df.drop(columns=drop_cols)\n",
    "y = new_df['price_range']\n",
    "\n",
    "# 1) Train/test split\n",
    "X_train, X_test, y_train, y_test = train_test_split(\n",
    "    X, y, test_size=0.25, random_state=42\n",
    ")\n",
    "\n",
    "# 2) Identify categorical vs numeric\n",
    "cat_cols = X.select_dtypes(include='object').columns.tolist()\n",
    "num_cols = [c for c in X.columns if c not in cat_cols]\n",
    "\n",
    "# 3) Build transformers (forcing all cats to str to avoid mixed‐type errors)\n",
    "numeric_transformer = Pipeline([\n",
    "    ('imputer', SimpleImputer(strategy='mean')),\n",
    "    ('scaler',   StandardScaler())\n",
    "])\n",
    "categorical_transformer = Pipeline([\n",
    "    ('to_str',   FunctionTransformer(lambda df: df.astype(str), validate=False)),\n",
    "    ('imputer',  SimpleImputer(strategy='constant', fill_value='missing')),\n",
    "    ('onehot',   OneHotEncoder(handle_unknown='ignore', sparse_output=False))\n",
    "])\n",
    "\n",
    "preprocessor = ColumnTransformer([\n",
    "    ('num', numeric_transformer,    num_cols),\n",
    "    ('cat', categorical_transformer, cat_cols),\n",
    "], remainder='drop')\n",
    "\n",
    "# 4) Full pipeline and fit\n",
    "model = Pipeline([\n",
    "    ('prep', preprocessor),\n",
    "    ('clf',  RandomForestClassifier(random_state=42, n_jobs=-1))\n",
    "])\n",
    "\n",
    "model.fit(X_train, y_train)\n",
    "print(\"Test accuracy:\", model.score(X_test, y_test))\n"
   ]
  },
  {
   "cell_type": "code",
   "execution_count": 90,
   "id": "01d2054f-9623-4de4-9b68-49ff46086e6b",
   "metadata": {},
   "outputs": [
    {
     "data": {
      "text/plain": [
       "SVM       0.851382\n",
       "RF        0.840299\n",
       "GB        0.819469\n",
       "LogReg    0.807451\n",
       "Name: Accuracy, dtype: float64"
      ]
     },
     "execution_count": 90,
     "metadata": {},
     "output_type": "execute_result"
    }
   ],
   "source": [
    "from sklearn.linear_model import LogisticRegression\n",
    "from sklearn.svm import SVC\n",
    "from sklearn.metrics import accuracy_score\n",
    "from sklearn.ensemble import GradientBoostingClassifier\n",
    "\n",
    "classifiers = {\n",
    "    'LogReg': LogisticRegression(max_iter=500),\n",
    "    'SVM':   SVC(),\n",
    "    'GB':    GradientBoostingClassifier(),\n",
    "    'RF':    RandomForestClassifier(random_state=42)\n",
    "}\n",
    "\n",
    "results = {}\n",
    "for name, clf in classifiers.items():\n",
    "    pipe = Pipeline([('prep', preprocessor), ('clf', clf)])\n",
    "    pipe.fit(X_train, y_train)\n",
    "    y_pred = pipe.predict(X_test)\n",
    "    results[name] = accuracy_score(y_test, y_pred)\n",
    "\n",
    "# summary table\n",
    "pd.Series(results, name='Accuracy').sort_values(ascending=False)\n"
   ]
  },
  {
   "cell_type": "code",
   "execution_count": 91,
   "id": "443749f8-22cc-4499-903e-df53339d89ce",
   "metadata": {},
   "outputs": [
    {
     "name": "stderr",
     "output_type": "stream",
     "text": [
      "C:\\Users\\serhii_kravchenko4\\AppData\\Local\\Packages\\PythonSoftwareFoundation.Python.3.12_qbz5n2kfra8p0\\LocalCache\\local-packages\\Python312\\site-packages\\xgboost\\training.py:183: UserWarning: [22:23:34] WARNING: C:\\actions-runner\\_work\\xgboost\\xgboost\\src\\learner.cc:738: \n",
      "Parameters: { \"use_label_encoder\" } are not used.\n",
      "\n",
      "  bst.update(dtrain, iteration=i, fobj=obj)\n"
     ]
    },
    {
     "name": "stdout",
     "output_type": "stream",
     "text": [
      "XGBoost Accuracy: 0.8687\n",
      "\n",
      "Classification Report:\n",
      "              precision    recall  f1-score   support\n",
      "\n",
      "     100-150       0.86      0.85      0.86      1930\n",
      "     150-200       0.80      0.85      0.83      2223\n",
      "     200-250       0.93      0.90      0.91      2430\n",
      "      50-100       0.90      0.89      0.89       906\n",
      "\n",
      "    accuracy                           0.87      7489\n",
      "   macro avg       0.87      0.87      0.87      7489\n",
      "weighted avg       0.87      0.87      0.87      7489\n",
      "\n"
     ]
    }
   ],
   "source": [
    "from sklearn.pipeline      import Pipeline\n",
    "from sklearn.preprocessing import LabelEncoder\n",
    "from sklearn.metrics       import accuracy_score, classification_report\n",
    "from xgboost               import XGBClassifier\n",
    "\n",
    "# 1) Label-encode the string targets\n",
    "le = LabelEncoder()\n",
    "y_train_enc = le.fit_transform(y_train)\n",
    "y_test_enc  = le.transform(y_test)\n",
    "\n",
    "# 2) Build the full Pipeline (reuse your preprocessor defined earlier)\n",
    "xgb_pipe = Pipeline([\n",
    "    ('prep', preprocessor),\n",
    "    ('xgb', XGBClassifier(\n",
    "        objective='multi:softprob',\n",
    "        use_label_encoder=False,\n",
    "        eval_metric='mlogloss',\n",
    "        n_jobs=-1,\n",
    "        random_state=42\n",
    "    ))\n",
    "])\n",
    "\n",
    "# 3) Fit & predict on raw X_train / X_test\n",
    "xgb_pipe.fit(X_train, y_train_enc)\n",
    "y_pred_enc = xgb_pipe.predict(X_test)\n",
    "\n",
    "# 4) Evaluate\n",
    "acc = accuracy_score(y_test_enc, y_pred_enc)\n",
    "print(f\"XGBoost Accuracy: {acc:.4f}\\n\")\n",
    "print(\"Classification Report:\")\n",
    "print(classification_report(\n",
    "    y_test_enc,\n",
    "    y_pred_enc,\n",
    "    target_names=le.classes_\n",
    "))\n"
   ]
  },
  {
   "cell_type": "code",
   "execution_count": 92,
   "id": "63c5f75a-315d-4e1c-ad4e-01e939ae7268",
   "metadata": {},
   "outputs": [
    {
     "name": "stderr",
     "output_type": "stream",
     "text": [
      "2025/05/28 22:24:24 INFO mlflow.tracking.fluent: Experiment with name 'Model_Comparison' does not exist. Creating a new experiment.\n",
      "2025/05/28 22:24:38 WARNING mlflow.models.model: Model logged without a signature and input example. Please set `input_example` parameter when logging the model to auto infer the model signature.\n"
     ]
    },
    {
     "name": "stdout",
     "output_type": "stream",
     "text": [
      "> Logged run for LogReg with accuracy=0.8075\n"
     ]
    },
    {
     "name": "stderr",
     "output_type": "stream",
     "text": [
      "2025/05/28 22:25:28 WARNING mlflow.models.model: Model logged without a signature and input example. Please set `input_example` parameter when logging the model to auto infer the model signature.\n"
     ]
    },
    {
     "name": "stdout",
     "output_type": "stream",
     "text": [
      "> Logged run for SVM with accuracy=0.8514\n"
     ]
    },
    {
     "name": "stderr",
     "output_type": "stream",
     "text": [
      "2025/05/28 22:25:53 WARNING mlflow.models.model: Model logged without a signature and input example. Please set `input_example` parameter when logging the model to auto infer the model signature.\n"
     ]
    },
    {
     "name": "stdout",
     "output_type": "stream",
     "text": [
      "> Logged run for GB with accuracy=0.8195\n"
     ]
    },
    {
     "name": "stderr",
     "output_type": "stream",
     "text": [
      "2025/05/28 22:26:01 WARNING mlflow.models.model: Model logged without a signature and input example. Please set `input_example` parameter when logging the model to auto infer the model signature.\n"
     ]
    },
    {
     "name": "stdout",
     "output_type": "stream",
     "text": [
      "> Logged run for RF with accuracy=0.8403\n"
     ]
    },
    {
     "name": "stderr",
     "output_type": "stream",
     "text": [
      "C:\\Users\\serhii_kravchenko4\\AppData\\Local\\Packages\\PythonSoftwareFoundation.Python.3.12_qbz5n2kfra8p0\\LocalCache\\local-packages\\Python312\\site-packages\\xgboost\\training.py:183: UserWarning: [22:26:02] WARNING: C:\\actions-runner\\_work\\xgboost\\xgboost\\src\\learner.cc:738: \n",
      "Parameters: { \"use_label_encoder\" } are not used.\n",
      "\n",
      "  bst.update(dtrain, iteration=i, fobj=obj)\n",
      "C:\\Users\\serhii_kravchenko4\\AppData\\Local\\Packages\\PythonSoftwareFoundation.Python.3.12_qbz5n2kfra8p0\\LocalCache\\local-packages\\Python312\\site-packages\\xgboost\\sklearn.py:1028: UserWarning: [22:26:03] WARNING: C:\\actions-runner\\_work\\xgboost\\xgboost\\src\\c_api\\c_api.cc:1427: Saving model in the UBJSON format as default.  You can use file extension: `json`, `ubj` or `deprecated` to choose between formats.\n",
      "  self.get_booster().save_model(fname)\n",
      "2025/05/28 22:26:07 WARNING mlflow.models.model: Model logged without a signature and input example. Please set `input_example` parameter when logging the model to auto infer the model signature.\n"
     ]
    },
    {
     "name": "stdout",
     "output_type": "stream",
     "text": [
      "> Logged run for XGBoost with accuracy=0.8687\n"
     ]
    }
   ],
   "source": [
    "import mlflow\n",
    "import mlflow.sklearn\n",
    "import mlflow.xgboost\n",
    "\n",
    "from sklearn.pipeline      import Pipeline\n",
    "from sklearn.preprocessing import LabelEncoder\n",
    "from sklearn.metrics       import accuracy_score, classification_report\n",
    "from sklearn.linear_model  import LogisticRegression\n",
    "from sklearn.svm           import SVC\n",
    "from sklearn.ensemble      import GradientBoostingClassifier, RandomForestClassifier\n",
    "from xgboost               import XGBClassifier\n",
    "\n",
    "# 0) point MLflow at your server / local files\n",
    "# mlflow.set_tracking_uri(\"http://localhost:5000\") # Comment out or remove this line\n",
    "mlflow.set_experiment(\"Model_Comparison\")\n",
    "\n",
    "# 1) label-encode your y once\n",
    "le = LabelEncoder()\n",
    "y_train_enc = le.fit_transform(y_train)\n",
    "y_test_enc  = le.transform(y_test)\n",
    "\n",
    "# 2) define all your “raw” classifiers\n",
    "classifiers = {\n",
    "    \"LogReg\":   LogisticRegression(max_iter=500),\n",
    "    \"SVM\":      SVC(),\n",
    "    \"GB\":       GradientBoostingClassifier(),\n",
    "    \"RF\":       RandomForestClassifier(random_state=42),\n",
    "    \"XGBoost\":  XGBClassifier(\n",
    "                    objective=\"multi:softprob\",\n",
    "                    use_label_encoder=False,\n",
    "                    eval_metric=\"mlogloss\",\n",
    "                    n_jobs=-1,\n",
    "                    random_state=42\n",
    "                )\n",
    "}\n",
    "\n",
    "# 3) loop through, train, evaluate, and send everything to MLflow\n",
    "for name, clf in classifiers.items():\n",
    "    with mlflow.start_run(run_name=name):\n",
    "        # build a pipeline on the fly\n",
    "        pipe = Pipeline([\n",
    "            (\"prep\", preprocessor),  # your existing ColumnTransformer\n",
    "            (\"clf\",  clf)\n",
    "        ])\n",
    "\n",
    "        # train & predict\n",
    "        pipe.fit(X_train, y_train_enc)\n",
    "        y_pred = pipe.predict(X_test)\n",
    "\n",
    "        # compute metrics\n",
    "        acc    = accuracy_score(y_test_enc, y_pred)\n",
    "        report = classification_report(\n",
    "            y_test_enc,\n",
    "            y_pred,\n",
    "            output_dict=True,\n",
    "            target_names=le.classes_\n",
    "        )\n",
    "\n",
    "        # log params + metrics\n",
    "        mlflow.log_param(\"model_name\", name)\n",
    "        mlflow.log_metric(\"accuracy\", acc)\n",
    "        # log per-class recall\n",
    "        for cls in le.classes_:\n",
    "            mlflow.log_metric(f\"recall_{cls}\", report[cls][\"recall\"])\n",
    "        # log macro-avg F1\n",
    "        mlflow.log_metric(\"f1_macro\", report[\"macro avg\"][\"f1-score\"])\n",
    "\n",
    "        # log the model artifact\n",
    "        if name == \"XGBoost\":\n",
    "            # log just the XGBoost estimator\n",
    "            mlflow.xgboost.log_model(\n",
    "                pipe.named_steps[\"clf\"],\n",
    "                artifact_path=\"model\"\n",
    "            )\n",
    "        else:\n",
    "            # log the full pipeline for sklearn models\n",
    "            mlflow.sklearn.log_model(\n",
    "                pipe,\n",
    "                artifact_path=\"model\"\n",
    "            )\n",
    "\n",
    "        print(f\"> Logged run for {name} with accuracy={acc:.4f}\")\n",
    "\n",
    "# after this you can compare runs in the MLflow UI at http://localhost:5000"
   ]
  },
  {
   "cell_type": "code",
   "execution_count": null,
   "id": "b577cc8d-2128-41b8-90d7-67bd4381f570",
   "metadata": {},
   "outputs": [],
   "source": []
  }
 ],
 "metadata": {
  "kernelspec": {
   "display_name": "Python 3 (ipykernel)",
   "language": "python",
   "name": "python3"
  },
  "language_info": {
   "codemirror_mode": {
    "name": "ipython",
    "version": 3
   },
   "file_extension": ".py",
   "mimetype": "text/x-python",
   "name": "python",
   "nbconvert_exporter": "python",
   "pygments_lexer": "ipython3",
   "version": "3.12.10"
  },
  "widgets": {
   "application/vnd.jupyter.widget-state+json": {
    "state": {},
    "version_major": 2,
    "version_minor": 0
   }
  }
 },
 "nbformat": 4,
 "nbformat_minor": 5
}
